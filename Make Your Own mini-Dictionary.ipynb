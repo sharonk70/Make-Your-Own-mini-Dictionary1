{
 "cells": [
  {
   "cell_type": "code",
   "execution_count": 2,
   "id": "dcedfc70",
   "metadata": {},
   "outputs": [
    {
     "name": "stdout",
     "output_type": "stream",
     "text": [
      "abcdefghiklmnopqrstuvwxyz\n",
      "[97, 98, 99, 100, 101, 102, 103, 104, 105, 107, 108, 109, 110, 111, 112, 113, 114, 115, 116, 117, 118, 119, 120, 121, 122]\n"
     ]
    }
   ],
   "source": [
    "x = input('')\n",
    "ASCIIvalues =[]\n",
    "for character in x:\n",
    "     ASCIIvalues.append(ord(character))\n",
    "print(ASCIIvalues)"
   ]
  },
  {
   "cell_type": "code",
   "execution_count": null,
   "id": "ab19f836",
   "metadata": {},
   "outputs": [],
   "source": []
  }
 ],
 "metadata": {
  "kernelspec": {
   "display_name": "Python 3",
   "language": "python",
   "name": "python3"
  },
  "language_info": {
   "codemirror_mode": {
    "name": "ipython",
    "version": 3
   },
   "file_extension": ".py",
   "mimetype": "text/x-python",
   "name": "python",
   "nbconvert_exporter": "python",
   "pygments_lexer": "ipython3",
   "version": "3.8.8"
  }
 },
 "nbformat": 4,
 "nbformat_minor": 5
}
